{
 "cells": [
  {
   "cell_type": "markdown",
   "metadata": {},
   "source": [
    "### Importing required Library"
   ]
  },
  {
   "cell_type": "code",
   "execution_count": 5,
   "metadata": {},
   "outputs": [],
   "source": [
    "import pandas as pd\n",
    "from sklearn import linear_model\n",
    "from sklearn import preprocessing"
   ]
  },
  {
   "cell_type": "code",
   "execution_count": 6,
   "metadata": {},
   "outputs": [
    {
     "data": {
      "text/html": [
       "<div>\n",
       "<style>\n",
       "    .dataframe thead tr:only-child th {\n",
       "        text-align: right;\n",
       "    }\n",
       "\n",
       "    .dataframe thead th {\n",
       "        text-align: left;\n",
       "    }\n",
       "\n",
       "    .dataframe tbody tr th {\n",
       "        vertical-align: top;\n",
       "    }\n",
       "</style>\n",
       "<table border=\"1\" class=\"dataframe\">\n",
       "  <thead>\n",
       "    <tr style=\"text-align: right;\">\n",
       "      <th></th>\n",
       "      <th>EB1rmsenergy10ms mean 1</th>\n",
       "      <th>EB1rmsenergy10ms sd 1</th>\n",
       "      <th>EB3intensity mean 1</th>\n",
       "      <th>EB3intensity sd 1</th>\n",
       "      <th>EL1totalloudness mean 1</th>\n",
       "      <th>EL1totalloudness sd 1</th>\n",
       "      <th>HL1firsttristimulus mean 1</th>\n",
       "      <th>HL1firsttristimulus sd 1</th>\n",
       "      <th>HL2secondtristimulus mean 1</th>\n",
       "      <th>HL2secondtristimulus sd 1</th>\n",
       "      <th>...</th>\n",
       "      <th>TL2variance sd 1</th>\n",
       "      <th>TL3nonzerocount mean 1</th>\n",
       "      <th>TL3nonzerocount sd 1</th>\n",
       "      <th>TL4lowestvalue mean 1</th>\n",
       "      <th>TL4lowestvalue sd 1</th>\n",
       "      <th>TL5highestvalue mean 1</th>\n",
       "      <th>TL5highestvalue sd 1</th>\n",
       "      <th>TL6averagedeviation mean 1</th>\n",
       "      <th>TL6averagedeviation sd 1</th>\n",
       "      <th>mood metadata</th>\n",
       "    </tr>\n",
       "  </thead>\n",
       "  <tbody>\n",
       "    <tr>\n",
       "      <th>100-club_anw1131_001.mp3</th>\n",
       "      <td>0.240140</td>\n",
       "      <td>0.060702</td>\n",
       "      <td>728.928</td>\n",
       "      <td>252.644</td>\n",
       "      <td>0.755427</td>\n",
       "      <td>0.129525</td>\n",
       "      <td>0.693388</td>\n",
       "      <td>0.216468</td>\n",
       "      <td>0.110481</td>\n",
       "      <td>0.111591</td>\n",
       "      <td>...</td>\n",
       "      <td>13145300</td>\n",
       "      <td>14.67830</td>\n",
       "      <td>13.1406</td>\n",
       "      <td>0.054871</td>\n",
       "      <td>0.020054</td>\n",
       "      <td>0.712033</td>\n",
       "      <td>0.246817</td>\n",
       "      <td>2833.03</td>\n",
       "      <td>1340.11</td>\n",
       "      <td>Bright</td>\n",
       "    </tr>\n",
       "    <tr>\n",
       "      <th>1000-daggers_anw1369_008.mp3</th>\n",
       "      <td>0.105963</td>\n",
       "      <td>0.055528</td>\n",
       "      <td>320.105</td>\n",
       "      <td>158.405</td>\n",
       "      <td>0.772353</td>\n",
       "      <td>0.092986</td>\n",
       "      <td>0.688717</td>\n",
       "      <td>0.233605</td>\n",
       "      <td>0.108136</td>\n",
       "      <td>0.129063</td>\n",
       "      <td>...</td>\n",
       "      <td>11085900</td>\n",
       "      <td>13.08280</td>\n",
       "      <td>10.7179</td>\n",
       "      <td>0.025222</td>\n",
       "      <td>0.017246</td>\n",
       "      <td>0.312729</td>\n",
       "      <td>0.154776</td>\n",
       "      <td>3663.17</td>\n",
       "      <td>1258.92</td>\n",
       "      <td>Driving</td>\n",
       "    </tr>\n",
       "    <tr>\n",
       "      <th>18-forever_anw1345_002.mp3</th>\n",
       "      <td>0.176853</td>\n",
       "      <td>0.090519</td>\n",
       "      <td>784.077</td>\n",
       "      <td>354.278</td>\n",
       "      <td>0.778773</td>\n",
       "      <td>0.131538</td>\n",
       "      <td>0.633216</td>\n",
       "      <td>0.244079</td>\n",
       "      <td>0.197348</td>\n",
       "      <td>0.167304</td>\n",
       "      <td>...</td>\n",
       "      <td>12105200</td>\n",
       "      <td>8.96436</td>\n",
       "      <td>13.1811</td>\n",
       "      <td>0.039578</td>\n",
       "      <td>0.030691</td>\n",
       "      <td>0.766027</td>\n",
       "      <td>0.346173</td>\n",
       "      <td>5074.35</td>\n",
       "      <td>1187.75</td>\n",
       "      <td>Frantic</td>\n",
       "    </tr>\n",
       "    <tr>\n",
       "      <th>3-in-1-tribalism_anw1992_004.mp3</th>\n",
       "      <td>0.141666</td>\n",
       "      <td>0.069601</td>\n",
       "      <td>372.860</td>\n",
       "      <td>219.924</td>\n",
       "      <td>0.683732</td>\n",
       "      <td>0.175177</td>\n",
       "      <td>0.699034</td>\n",
       "      <td>0.251840</td>\n",
       "      <td>0.134497</td>\n",
       "      <td>0.157578</td>\n",
       "      <td>...</td>\n",
       "      <td>8154260</td>\n",
       "      <td>12.19650</td>\n",
       "      <td>11.1964</td>\n",
       "      <td>0.037016</td>\n",
       "      <td>0.022369</td>\n",
       "      <td>0.364177</td>\n",
       "      <td>0.214875</td>\n",
       "      <td>2313.27</td>\n",
       "      <td>1214.24</td>\n",
       "      <td>Power</td>\n",
       "    </tr>\n",
       "    <tr>\n",
       "      <th>a-beautiful-ending_anw2771_003.mp3</th>\n",
       "      <td>0.113067</td>\n",
       "      <td>0.068926</td>\n",
       "      <td>240.435</td>\n",
       "      <td>140.383</td>\n",
       "      <td>0.558260</td>\n",
       "      <td>0.113480</td>\n",
       "      <td>0.658452</td>\n",
       "      <td>0.275075</td>\n",
       "      <td>0.132034</td>\n",
       "      <td>0.182691</td>\n",
       "      <td>...</td>\n",
       "      <td>36823400</td>\n",
       "      <td>13.48280</td>\n",
       "      <td>12.6010</td>\n",
       "      <td>0.028043</td>\n",
       "      <td>0.019774</td>\n",
       "      <td>0.234765</td>\n",
       "      <td>0.137180</td>\n",
       "      <td>2207.44</td>\n",
       "      <td>2752.70</td>\n",
       "      <td>Peaceful</td>\n",
       "    </tr>\n",
       "  </tbody>\n",
       "</table>\n",
       "<p>5 rows × 488 columns</p>\n",
       "</div>"
      ],
      "text/plain": [
       "                                    EB1rmsenergy10ms mean 1  \\\n",
       "100-club_anw1131_001.mp3                           0.240140   \n",
       "1000-daggers_anw1369_008.mp3                       0.105963   \n",
       "18-forever_anw1345_002.mp3                         0.176853   \n",
       "3-in-1-tribalism_anw1992_004.mp3                   0.141666   \n",
       "a-beautiful-ending_anw2771_003.mp3                 0.113067   \n",
       "\n",
       "                                    EB1rmsenergy10ms sd 1  \\\n",
       "100-club_anw1131_001.mp3                         0.060702   \n",
       "1000-daggers_anw1369_008.mp3                     0.055528   \n",
       "18-forever_anw1345_002.mp3                       0.090519   \n",
       "3-in-1-tribalism_anw1992_004.mp3                 0.069601   \n",
       "a-beautiful-ending_anw2771_003.mp3               0.068926   \n",
       "\n",
       "                                    EB3intensity mean 1  EB3intensity sd 1  \\\n",
       "100-club_anw1131_001.mp3                        728.928            252.644   \n",
       "1000-daggers_anw1369_008.mp3                    320.105            158.405   \n",
       "18-forever_anw1345_002.mp3                      784.077            354.278   \n",
       "3-in-1-tribalism_anw1992_004.mp3                372.860            219.924   \n",
       "a-beautiful-ending_anw2771_003.mp3              240.435            140.383   \n",
       "\n",
       "                                    EL1totalloudness mean 1  \\\n",
       "100-club_anw1131_001.mp3                           0.755427   \n",
       "1000-daggers_anw1369_008.mp3                       0.772353   \n",
       "18-forever_anw1345_002.mp3                         0.778773   \n",
       "3-in-1-tribalism_anw1992_004.mp3                   0.683732   \n",
       "a-beautiful-ending_anw2771_003.mp3                 0.558260   \n",
       "\n",
       "                                    EL1totalloudness sd 1  \\\n",
       "100-club_anw1131_001.mp3                         0.129525   \n",
       "1000-daggers_anw1369_008.mp3                     0.092986   \n",
       "18-forever_anw1345_002.mp3                       0.131538   \n",
       "3-in-1-tribalism_anw1992_004.mp3                 0.175177   \n",
       "a-beautiful-ending_anw2771_003.mp3               0.113480   \n",
       "\n",
       "                                    HL1firsttristimulus mean 1  \\\n",
       "100-club_anw1131_001.mp3                              0.693388   \n",
       "1000-daggers_anw1369_008.mp3                          0.688717   \n",
       "18-forever_anw1345_002.mp3                            0.633216   \n",
       "3-in-1-tribalism_anw1992_004.mp3                      0.699034   \n",
       "a-beautiful-ending_anw2771_003.mp3                    0.658452   \n",
       "\n",
       "                                    HL1firsttristimulus sd 1  \\\n",
       "100-club_anw1131_001.mp3                            0.216468   \n",
       "1000-daggers_anw1369_008.mp3                        0.233605   \n",
       "18-forever_anw1345_002.mp3                          0.244079   \n",
       "3-in-1-tribalism_anw1992_004.mp3                    0.251840   \n",
       "a-beautiful-ending_anw2771_003.mp3                  0.275075   \n",
       "\n",
       "                                    HL2secondtristimulus mean 1  \\\n",
       "100-club_anw1131_001.mp3                               0.110481   \n",
       "1000-daggers_anw1369_008.mp3                           0.108136   \n",
       "18-forever_anw1345_002.mp3                             0.197348   \n",
       "3-in-1-tribalism_anw1992_004.mp3                       0.134497   \n",
       "a-beautiful-ending_anw2771_003.mp3                     0.132034   \n",
       "\n",
       "                                    HL2secondtristimulus sd 1      ...        \\\n",
       "100-club_anw1131_001.mp3                             0.111591      ...         \n",
       "1000-daggers_anw1369_008.mp3                         0.129063      ...         \n",
       "18-forever_anw1345_002.mp3                           0.167304      ...         \n",
       "3-in-1-tribalism_anw1992_004.mp3                     0.157578      ...         \n",
       "a-beautiful-ending_anw2771_003.mp3                   0.182691      ...         \n",
       "\n",
       "                                    TL2variance sd 1  TL3nonzerocount mean 1  \\\n",
       "100-club_anw1131_001.mp3                    13145300                14.67830   \n",
       "1000-daggers_anw1369_008.mp3                11085900                13.08280   \n",
       "18-forever_anw1345_002.mp3                  12105200                 8.96436   \n",
       "3-in-1-tribalism_anw1992_004.mp3             8154260                12.19650   \n",
       "a-beautiful-ending_anw2771_003.mp3          36823400                13.48280   \n",
       "\n",
       "                                    TL3nonzerocount sd 1  \\\n",
       "100-club_anw1131_001.mp3                         13.1406   \n",
       "1000-daggers_anw1369_008.mp3                     10.7179   \n",
       "18-forever_anw1345_002.mp3                       13.1811   \n",
       "3-in-1-tribalism_anw1992_004.mp3                 11.1964   \n",
       "a-beautiful-ending_anw2771_003.mp3               12.6010   \n",
       "\n",
       "                                    TL4lowestvalue mean 1  \\\n",
       "100-club_anw1131_001.mp3                         0.054871   \n",
       "1000-daggers_anw1369_008.mp3                     0.025222   \n",
       "18-forever_anw1345_002.mp3                       0.039578   \n",
       "3-in-1-tribalism_anw1992_004.mp3                 0.037016   \n",
       "a-beautiful-ending_anw2771_003.mp3               0.028043   \n",
       "\n",
       "                                    TL4lowestvalue sd 1  \\\n",
       "100-club_anw1131_001.mp3                       0.020054   \n",
       "1000-daggers_anw1369_008.mp3                   0.017246   \n",
       "18-forever_anw1345_002.mp3                     0.030691   \n",
       "3-in-1-tribalism_anw1992_004.mp3               0.022369   \n",
       "a-beautiful-ending_anw2771_003.mp3             0.019774   \n",
       "\n",
       "                                    TL5highestvalue mean 1  \\\n",
       "100-club_anw1131_001.mp3                          0.712033   \n",
       "1000-daggers_anw1369_008.mp3                      0.312729   \n",
       "18-forever_anw1345_002.mp3                        0.766027   \n",
       "3-in-1-tribalism_anw1992_004.mp3                  0.364177   \n",
       "a-beautiful-ending_anw2771_003.mp3                0.234765   \n",
       "\n",
       "                                    TL5highestvalue sd 1  \\\n",
       "100-club_anw1131_001.mp3                        0.246817   \n",
       "1000-daggers_anw1369_008.mp3                    0.154776   \n",
       "18-forever_anw1345_002.mp3                      0.346173   \n",
       "3-in-1-tribalism_anw1992_004.mp3                0.214875   \n",
       "a-beautiful-ending_anw2771_003.mp3              0.137180   \n",
       "\n",
       "                                    TL6averagedeviation mean 1  \\\n",
       "100-club_anw1131_001.mp3                               2833.03   \n",
       "1000-daggers_anw1369_008.mp3                           3663.17   \n",
       "18-forever_anw1345_002.mp3                             5074.35   \n",
       "3-in-1-tribalism_anw1992_004.mp3                       2313.27   \n",
       "a-beautiful-ending_anw2771_003.mp3                     2207.44   \n",
       "\n",
       "                                    TL6averagedeviation sd 1   mood metadata  \n",
       "100-club_anw1131_001.mp3                              1340.11        Bright   \n",
       "1000-daggers_anw1369_008.mp3                          1258.92       Driving   \n",
       "18-forever_anw1345_002.mp3                            1187.75       Frantic   \n",
       "3-in-1-tribalism_anw1992_004.mp3                      1214.24         Power   \n",
       "a-beautiful-ending_anw2771_003.mp3                    2752.70      Peaceful   \n",
       "\n",
       "[5 rows x 488 columns]"
      ]
     },
     "execution_count": 6,
     "metadata": {},
     "output_type": "execute_result"
    }
   ],
   "source": [
    "dataset_file = 'dataset.csv' # Path of the file (training data set)\n",
    "df = pd.read_csv(dataset_file, index_col=0)\n",
    "df.head() # preview dataframe"
   ]
  },
  {
   "cell_type": "code",
   "execution_count": 7,
   "metadata": {},
   "outputs": [
    {
     "data": {
      "text/plain": [
       "100-club_anw1131_001.mp3                Bright\n",
       "1000-daggers_anw1369_008.mp3           Driving\n",
       "18-forever_anw1345_002.mp3             Frantic\n",
       "3-in-1-tribalism_anw1992_004.mp3         Power\n",
       "a-beautiful-ending_anw2771_003.mp3    Peaceful\n",
       "Name: mood metadata, dtype: object"
      ]
     },
     "execution_count": 7,
     "metadata": {},
     "output_type": "execute_result"
    }
   ],
   "source": [
    "labels = df['mood metadata'] # Lable of the track\n",
    "labels = labels.apply(lambda x: x.strip()) # Operation to stip extra spaces.\n",
    "labels.head()"
   ]
  },
  {
   "cell_type": "code",
   "execution_count": 8,
   "metadata": {},
   "outputs": [],
   "source": [
    "features_df = df[df.columns.difference(['mood metadata'])] # Take the all column data except the last one which is the label"
   ]
  },
  {
   "cell_type": "code",
   "execution_count": 9,
   "metadata": {},
   "outputs": [
    {
     "data": {
      "text/html": [
       "<div>\n",
       "<style>\n",
       "    .dataframe thead tr:only-child th {\n",
       "        text-align: right;\n",
       "    }\n",
       "\n",
       "    .dataframe thead th {\n",
       "        text-align: left;\n",
       "    }\n",
       "\n",
       "    .dataframe tbody tr th {\n",
       "        vertical-align: top;\n",
       "    }\n",
       "</style>\n",
       "<table border=\"1\" class=\"dataframe\">\n",
       "  <thead>\n",
       "    <tr style=\"text-align: right;\">\n",
       "      <th></th>\n",
       "      <th>SQ1mfcc20 mean 17</th>\n",
       "      <th>EB1rmsenergy10ms mean 1</th>\n",
       "      <th>EB1rmsenergy10ms sd 1</th>\n",
       "      <th>EB3intensity mean 1</th>\n",
       "      <th>EB3intensity sd 1</th>\n",
       "      <th>EL1totalloudness mean 1</th>\n",
       "      <th>EL1totalloudness sd 1</th>\n",
       "      <th>HL1firsttristimulus mean 1</th>\n",
       "      <th>HL1firsttristimulus sd 1</th>\n",
       "      <th>HL2secondtristimulus mean 1</th>\n",
       "      <th>...</th>\n",
       "      <th>TL2variance mean 1</th>\n",
       "      <th>TL2variance sd 1</th>\n",
       "      <th>TL3nonzerocount mean 1</th>\n",
       "      <th>TL3nonzerocount sd 1</th>\n",
       "      <th>TL4lowestvalue mean 1</th>\n",
       "      <th>TL4lowestvalue sd 1</th>\n",
       "      <th>TL5highestvalue mean 1</th>\n",
       "      <th>TL5highestvalue sd 1</th>\n",
       "      <th>TL6averagedeviation mean 1</th>\n",
       "      <th>TL6averagedeviation sd 1</th>\n",
       "    </tr>\n",
       "  </thead>\n",
       "  <tbody>\n",
       "    <tr>\n",
       "      <th>100-club_anw1131_001.mp3</th>\n",
       "      <td>0.047874</td>\n",
       "      <td>0.240140</td>\n",
       "      <td>0.060702</td>\n",
       "      <td>728.928</td>\n",
       "      <td>252.644</td>\n",
       "      <td>0.755427</td>\n",
       "      <td>0.129525</td>\n",
       "      <td>0.693388</td>\n",
       "      <td>0.216468</td>\n",
       "      <td>0.110481</td>\n",
       "      <td>...</td>\n",
       "      <td>9841180</td>\n",
       "      <td>13145300</td>\n",
       "      <td>14.67830</td>\n",
       "      <td>13.1406</td>\n",
       "      <td>0.054871</td>\n",
       "      <td>0.020054</td>\n",
       "      <td>0.712033</td>\n",
       "      <td>0.246817</td>\n",
       "      <td>2833.03</td>\n",
       "      <td>1340.11</td>\n",
       "    </tr>\n",
       "    <tr>\n",
       "      <th>1000-daggers_anw1369_008.mp3</th>\n",
       "      <td>-0.010989</td>\n",
       "      <td>0.105963</td>\n",
       "      <td>0.055528</td>\n",
       "      <td>320.105</td>\n",
       "      <td>158.405</td>\n",
       "      <td>0.772353</td>\n",
       "      <td>0.092986</td>\n",
       "      <td>0.688717</td>\n",
       "      <td>0.233605</td>\n",
       "      <td>0.108136</td>\n",
       "      <td>...</td>\n",
       "      <td>15033000</td>\n",
       "      <td>11085900</td>\n",
       "      <td>13.08280</td>\n",
       "      <td>10.7179</td>\n",
       "      <td>0.025222</td>\n",
       "      <td>0.017246</td>\n",
       "      <td>0.312729</td>\n",
       "      <td>0.154776</td>\n",
       "      <td>3663.17</td>\n",
       "      <td>1258.92</td>\n",
       "    </tr>\n",
       "    <tr>\n",
       "      <th>18-forever_anw1345_002.mp3</th>\n",
       "      <td>0.082787</td>\n",
       "      <td>0.176853</td>\n",
       "      <td>0.090519</td>\n",
       "      <td>784.077</td>\n",
       "      <td>354.278</td>\n",
       "      <td>0.778773</td>\n",
       "      <td>0.131538</td>\n",
       "      <td>0.633216</td>\n",
       "      <td>0.244079</td>\n",
       "      <td>0.197348</td>\n",
       "      <td>...</td>\n",
       "      <td>27212900</td>\n",
       "      <td>12105200</td>\n",
       "      <td>8.96436</td>\n",
       "      <td>13.1811</td>\n",
       "      <td>0.039578</td>\n",
       "      <td>0.030691</td>\n",
       "      <td>0.766027</td>\n",
       "      <td>0.346173</td>\n",
       "      <td>5074.35</td>\n",
       "      <td>1187.75</td>\n",
       "    </tr>\n",
       "    <tr>\n",
       "      <th>3-in-1-tribalism_anw1992_004.mp3</th>\n",
       "      <td>-0.035056</td>\n",
       "      <td>0.141666</td>\n",
       "      <td>0.069601</td>\n",
       "      <td>372.860</td>\n",
       "      <td>219.924</td>\n",
       "      <td>0.683732</td>\n",
       "      <td>0.175177</td>\n",
       "      <td>0.699034</td>\n",
       "      <td>0.251840</td>\n",
       "      <td>0.134497</td>\n",
       "      <td>...</td>\n",
       "      <td>6838950</td>\n",
       "      <td>8154260</td>\n",
       "      <td>12.19650</td>\n",
       "      <td>11.1964</td>\n",
       "      <td>0.037016</td>\n",
       "      <td>0.022369</td>\n",
       "      <td>0.364177</td>\n",
       "      <td>0.214875</td>\n",
       "      <td>2313.27</td>\n",
       "      <td>1214.24</td>\n",
       "    </tr>\n",
       "    <tr>\n",
       "      <th>a-beautiful-ending_anw2771_003.mp3</th>\n",
       "      <td>-0.187467</td>\n",
       "      <td>0.113067</td>\n",
       "      <td>0.068926</td>\n",
       "      <td>240.435</td>\n",
       "      <td>140.383</td>\n",
       "      <td>0.558260</td>\n",
       "      <td>0.113480</td>\n",
       "      <td>0.658452</td>\n",
       "      <td>0.275075</td>\n",
       "      <td>0.132034</td>\n",
       "      <td>...</td>\n",
       "      <td>12474500</td>\n",
       "      <td>36823400</td>\n",
       "      <td>13.48280</td>\n",
       "      <td>12.6010</td>\n",
       "      <td>0.028043</td>\n",
       "      <td>0.019774</td>\n",
       "      <td>0.234765</td>\n",
       "      <td>0.137180</td>\n",
       "      <td>2207.44</td>\n",
       "      <td>2752.70</td>\n",
       "    </tr>\n",
       "  </tbody>\n",
       "</table>\n",
       "<p>5 rows × 487 columns</p>\n",
       "</div>"
      ],
      "text/plain": [
       "                                     SQ1mfcc20 mean 17  \\\n",
       "100-club_anw1131_001.mp3                      0.047874   \n",
       "1000-daggers_anw1369_008.mp3                 -0.010989   \n",
       "18-forever_anw1345_002.mp3                    0.082787   \n",
       "3-in-1-tribalism_anw1992_004.mp3             -0.035056   \n",
       "a-beautiful-ending_anw2771_003.mp3           -0.187467   \n",
       "\n",
       "                                    EB1rmsenergy10ms mean 1  \\\n",
       "100-club_anw1131_001.mp3                           0.240140   \n",
       "1000-daggers_anw1369_008.mp3                       0.105963   \n",
       "18-forever_anw1345_002.mp3                         0.176853   \n",
       "3-in-1-tribalism_anw1992_004.mp3                   0.141666   \n",
       "a-beautiful-ending_anw2771_003.mp3                 0.113067   \n",
       "\n",
       "                                    EB1rmsenergy10ms sd 1  \\\n",
       "100-club_anw1131_001.mp3                         0.060702   \n",
       "1000-daggers_anw1369_008.mp3                     0.055528   \n",
       "18-forever_anw1345_002.mp3                       0.090519   \n",
       "3-in-1-tribalism_anw1992_004.mp3                 0.069601   \n",
       "a-beautiful-ending_anw2771_003.mp3               0.068926   \n",
       "\n",
       "                                    EB3intensity mean 1  EB3intensity sd 1  \\\n",
       "100-club_anw1131_001.mp3                        728.928            252.644   \n",
       "1000-daggers_anw1369_008.mp3                    320.105            158.405   \n",
       "18-forever_anw1345_002.mp3                      784.077            354.278   \n",
       "3-in-1-tribalism_anw1992_004.mp3                372.860            219.924   \n",
       "a-beautiful-ending_anw2771_003.mp3              240.435            140.383   \n",
       "\n",
       "                                    EL1totalloudness mean 1  \\\n",
       "100-club_anw1131_001.mp3                           0.755427   \n",
       "1000-daggers_anw1369_008.mp3                       0.772353   \n",
       "18-forever_anw1345_002.mp3                         0.778773   \n",
       "3-in-1-tribalism_anw1992_004.mp3                   0.683732   \n",
       "a-beautiful-ending_anw2771_003.mp3                 0.558260   \n",
       "\n",
       "                                    EL1totalloudness sd 1  \\\n",
       "100-club_anw1131_001.mp3                         0.129525   \n",
       "1000-daggers_anw1369_008.mp3                     0.092986   \n",
       "18-forever_anw1345_002.mp3                       0.131538   \n",
       "3-in-1-tribalism_anw1992_004.mp3                 0.175177   \n",
       "a-beautiful-ending_anw2771_003.mp3               0.113480   \n",
       "\n",
       "                                    HL1firsttristimulus mean 1  \\\n",
       "100-club_anw1131_001.mp3                              0.693388   \n",
       "1000-daggers_anw1369_008.mp3                          0.688717   \n",
       "18-forever_anw1345_002.mp3                            0.633216   \n",
       "3-in-1-tribalism_anw1992_004.mp3                      0.699034   \n",
       "a-beautiful-ending_anw2771_003.mp3                    0.658452   \n",
       "\n",
       "                                    HL1firsttristimulus sd 1  \\\n",
       "100-club_anw1131_001.mp3                            0.216468   \n",
       "1000-daggers_anw1369_008.mp3                        0.233605   \n",
       "18-forever_anw1345_002.mp3                          0.244079   \n",
       "3-in-1-tribalism_anw1992_004.mp3                    0.251840   \n",
       "a-beautiful-ending_anw2771_003.mp3                  0.275075   \n",
       "\n",
       "                                    HL2secondtristimulus mean 1  \\\n",
       "100-club_anw1131_001.mp3                               0.110481   \n",
       "1000-daggers_anw1369_008.mp3                           0.108136   \n",
       "18-forever_anw1345_002.mp3                             0.197348   \n",
       "3-in-1-tribalism_anw1992_004.mp3                       0.134497   \n",
       "a-beautiful-ending_anw2771_003.mp3                     0.132034   \n",
       "\n",
       "                                              ...              \\\n",
       "100-club_anw1131_001.mp3                      ...               \n",
       "1000-daggers_anw1369_008.mp3                  ...               \n",
       "18-forever_anw1345_002.mp3                    ...               \n",
       "3-in-1-tribalism_anw1992_004.mp3              ...               \n",
       "a-beautiful-ending_anw2771_003.mp3            ...               \n",
       "\n",
       "                                    TL2variance mean 1  TL2variance sd 1  \\\n",
       "100-club_anw1131_001.mp3                       9841180          13145300   \n",
       "1000-daggers_anw1369_008.mp3                  15033000          11085900   \n",
       "18-forever_anw1345_002.mp3                    27212900          12105200   \n",
       "3-in-1-tribalism_anw1992_004.mp3               6838950           8154260   \n",
       "a-beautiful-ending_anw2771_003.mp3            12474500          36823400   \n",
       "\n",
       "                                    TL3nonzerocount mean 1  \\\n",
       "100-club_anw1131_001.mp3                          14.67830   \n",
       "1000-daggers_anw1369_008.mp3                      13.08280   \n",
       "18-forever_anw1345_002.mp3                         8.96436   \n",
       "3-in-1-tribalism_anw1992_004.mp3                  12.19650   \n",
       "a-beautiful-ending_anw2771_003.mp3                13.48280   \n",
       "\n",
       "                                    TL3nonzerocount sd 1  \\\n",
       "100-club_anw1131_001.mp3                         13.1406   \n",
       "1000-daggers_anw1369_008.mp3                     10.7179   \n",
       "18-forever_anw1345_002.mp3                       13.1811   \n",
       "3-in-1-tribalism_anw1992_004.mp3                 11.1964   \n",
       "a-beautiful-ending_anw2771_003.mp3               12.6010   \n",
       "\n",
       "                                    TL4lowestvalue mean 1  \\\n",
       "100-club_anw1131_001.mp3                         0.054871   \n",
       "1000-daggers_anw1369_008.mp3                     0.025222   \n",
       "18-forever_anw1345_002.mp3                       0.039578   \n",
       "3-in-1-tribalism_anw1992_004.mp3                 0.037016   \n",
       "a-beautiful-ending_anw2771_003.mp3               0.028043   \n",
       "\n",
       "                                    TL4lowestvalue sd 1  \\\n",
       "100-club_anw1131_001.mp3                       0.020054   \n",
       "1000-daggers_anw1369_008.mp3                   0.017246   \n",
       "18-forever_anw1345_002.mp3                     0.030691   \n",
       "3-in-1-tribalism_anw1992_004.mp3               0.022369   \n",
       "a-beautiful-ending_anw2771_003.mp3             0.019774   \n",
       "\n",
       "                                    TL5highestvalue mean 1  \\\n",
       "100-club_anw1131_001.mp3                          0.712033   \n",
       "1000-daggers_anw1369_008.mp3                      0.312729   \n",
       "18-forever_anw1345_002.mp3                        0.766027   \n",
       "3-in-1-tribalism_anw1992_004.mp3                  0.364177   \n",
       "a-beautiful-ending_anw2771_003.mp3                0.234765   \n",
       "\n",
       "                                    TL5highestvalue sd 1  \\\n",
       "100-club_anw1131_001.mp3                        0.246817   \n",
       "1000-daggers_anw1369_008.mp3                    0.154776   \n",
       "18-forever_anw1345_002.mp3                      0.346173   \n",
       "3-in-1-tribalism_anw1992_004.mp3                0.214875   \n",
       "a-beautiful-ending_anw2771_003.mp3              0.137180   \n",
       "\n",
       "                                    TL6averagedeviation mean 1  \\\n",
       "100-club_anw1131_001.mp3                               2833.03   \n",
       "1000-daggers_anw1369_008.mp3                           3663.17   \n",
       "18-forever_anw1345_002.mp3                             5074.35   \n",
       "3-in-1-tribalism_anw1992_004.mp3                       2313.27   \n",
       "a-beautiful-ending_anw2771_003.mp3                     2207.44   \n",
       "\n",
       "                                    TL6averagedeviation sd 1   \n",
       "100-club_anw1131_001.mp3                              1340.11  \n",
       "1000-daggers_anw1369_008.mp3                          1258.92  \n",
       "18-forever_anw1345_002.mp3                            1187.75  \n",
       "3-in-1-tribalism_anw1992_004.mp3                      1214.24  \n",
       "a-beautiful-ending_anw2771_003.mp3                    2752.70  \n",
       "\n",
       "[5 rows x 487 columns]"
      ]
     },
     "execution_count": 9,
     "metadata": {},
     "output_type": "execute_result"
    }
   ],
   "source": [
    "features_df.head()"
   ]
  },
  {
   "cell_type": "code",
   "execution_count": 10,
   "metadata": {},
   "outputs": [
    {
     "data": {
      "text/plain": [
       "array([[  4.78741000e-02,   2.40140000e-01,   6.07025000e-02, ...,\n",
       "          2.46817000e-01,   2.83303000e+03,   1.34011000e+03],\n",
       "       [ -1.09887000e-02,   1.05963000e-01,   5.55278000e-02, ...,\n",
       "          1.54776000e-01,   3.66317000e+03,   1.25892000e+03],\n",
       "       [  8.27871000e-02,   1.76853000e-01,   9.05193000e-02, ...,\n",
       "          3.46173000e-01,   5.07435000e+03,   1.18775000e+03],\n",
       "       ..., \n",
       "       [ -1.29742000e-01,   6.97167000e-02,   4.79892000e-02, ...,\n",
       "          1.58649000e-01,   3.58837000e+03,   1.96510000e+03],\n",
       "       [ -2.89274000e-01,   1.24216000e-01,   6.52597000e-02, ...,\n",
       "          9.82264000e-02,   9.00845000e+02,   7.62604000e+02],\n",
       "       [  3.67516000e-01,   4.67684000e-02,   5.73761000e-02, ...,\n",
       "          3.22150000e-01,   4.69042000e+03,   1.77437000e+03]])"
      ]
     },
     "execution_count": 10,
     "metadata": {},
     "output_type": "execute_result"
    }
   ],
   "source": [
    "features_df.as_matrix()"
   ]
  },
  {
   "cell_type": "code",
   "execution_count": 11,
   "metadata": {},
   "outputs": [],
   "source": [
    "\"\"\" r  = [  [2 ,3 ,4],\n",
    "            [43, 45, 5],\n",
    "            [43, 5, 645],\n",
    "            [4, 45, 5],\n",
    "            [43, 45, 5],\n",
    "            ]\n",
    "\"\"\"\n",
    "features_df\n",
    "X = features_df.as_matrix()"
   ]
  },
  {
   "cell_type": "code",
   "execution_count": 13,
   "metadata": {},
   "outputs": [
    {
     "data": {
      "text/plain": [
       "100-club_anw1131_001.mp3                Bright\n",
       "1000-daggers_anw1369_008.mp3           Driving\n",
       "18-forever_anw1345_002.mp3             Frantic\n",
       "3-in-1-tribalism_anw1992_004.mp3         Power\n",
       "a-beautiful-ending_anw2771_003.mp3    Peaceful\n",
       "Name: mood metadata, dtype: object"
      ]
     },
     "execution_count": 13,
     "metadata": {},
     "output_type": "execute_result"
    }
   ],
   "source": [
    "labels.head()"
   ]
  },
  {
   "cell_type": "code",
   "execution_count": 15,
   "metadata": {},
   "outputs": [],
   "source": [
    "le = preprocessing.LabelEncoder() # To convert string label to int label\n",
    "le.fit(labels)\n",
    "Y = le.transform(labels)"
   ]
  },
  {
   "cell_type": "code",
   "execution_count": 7,
   "metadata": {},
   "outputs": [
    {
     "data": {
      "text/plain": [
       "array([[ 4.78741e-02,  2.40140e-01,  6.07025e-02, ...,  2.46817e-01,\n",
       "         2.83303e+03,  1.34011e+03],\n",
       "       [-1.09887e-02,  1.05963e-01,  5.55278e-02, ...,  1.54776e-01,\n",
       "         3.66317e+03,  1.25892e+03],\n",
       "       [ 8.27871e-02,  1.76853e-01,  9.05193e-02, ...,  3.46173e-01,\n",
       "         5.07435e+03,  1.18775e+03],\n",
       "       ...,\n",
       "       [-1.29742e-01,  6.97167e-02,  4.79892e-02, ...,  1.58649e-01,\n",
       "         3.58837e+03,  1.96510e+03],\n",
       "       [-2.89274e-01,  1.24216e-01,  6.52597e-02, ...,  9.82264e-02,\n",
       "         9.00845e+02,  7.62604e+02],\n",
       "       [ 3.67516e-01,  4.67684e-02,  5.73761e-02, ...,  3.22150e-01,\n",
       "         4.69042e+03,  1.77437e+03]])"
      ]
     },
     "execution_count": 7,
     "metadata": {},
     "output_type": "execute_result"
    }
   ],
   "source": [
    "X"
   ]
  },
  {
   "cell_type": "code",
   "execution_count": 17,
   "metadata": {},
   "outputs": [
    {
     "data": {
      "text/plain": [
       "array([ 7, 20, 26])"
      ]
     },
     "execution_count": 17,
     "metadata": {},
     "output_type": "execute_result"
    }
   ],
   "source": [
    "Y[:3]"
   ]
  },
  {
   "cell_type": "code",
   "execution_count": 19,
   "metadata": {},
   "outputs": [
    {
     "data": {
      "text/plain": [
       "array(['Bright', 'Ambient'], dtype=object)"
      ]
     },
     "execution_count": 19,
     "metadata": {},
     "output_type": "execute_result"
    }
   ],
   "source": [
    "le.inverse_transform([7, 0 ])"
   ]
  },
  {
   "cell_type": "code",
   "execution_count": 21,
   "metadata": {},
   "outputs": [
    {
     "data": {
      "text/plain": [
       "array(['Bright', 'Driving', 'Frantic', 'Power', 'Peaceful', 'Sad', 'Drama',\n",
       "       'Dance Club', 'Urban', 'Romantic', 'Neutral', 'Warm', 'Funny',\n",
       "       'Thoughtful', 'Fantasy', 'Orchestral', 'Quirky', 'Jaunty', 'Cheese',\n",
       "       'Tension', 'Dawn', 'Celebration', 'Sci-Fi', 'Exotic', 'Luxury',\n",
       "       'Ambient', 'Chill Out', 'Majestic', 'Inspiring', 'Hypnotic',\n",
       "       'Nostalgic', 'Panoramic', 'Beautiful', 'Dream', 'Dramatic',\n",
       "       'Laid Back', 'Light Tension', 'Heroic', 'Dark', 'Anger', 'Intimate',\n",
       "       'Horror', 'Regal', 'Electronic', 'Happy', 'Hot', 'Ballads',\n",
       "       'Cumbersome', 'Ghostly', 'Stealth', 'Sexy', 'Drone', 'Violence',\n",
       "       'Dance', 'Anthemic', 'Magic', 'Simple', 'Cold', 'Background',\n",
       "       'Slow Motion', 'Sea', 'Erotic', 'Schmaltz', 'Beds'], dtype=object)"
      ]
     },
     "execution_count": 21,
     "metadata": {},
     "output_type": "execute_result"
    }
   ],
   "source": [
    "labels.unique()"
   ]
  },
  {
   "cell_type": "code",
   "execution_count": 20,
   "metadata": {},
   "outputs": [
    {
     "data": {
      "text/plain": [
       "64"
      ]
     },
     "execution_count": 20,
     "metadata": {},
     "output_type": "execute_result"
    }
   ],
   "source": [
    "len(labels.unique())"
   ]
  },
  {
   "cell_type": "code",
   "execution_count": 22,
   "metadata": {},
   "outputs": [],
   "source": [
    "ridge_classifier_cv = linear_model.RidgeClassifierCV(cv=10) # Cross fold valiation helps you to understand weather your model is underfittnng or over fitting"
   ]
  },
  {
   "cell_type": "code",
   "execution_count": 23,
   "metadata": {},
   "outputs": [
    {
     "name": "stderr",
     "output_type": "stream",
     "text": [
      "/Users/akushwaha/Projects/pipe-api/.venv/lib/python3.6/site-packages/sklearn/linear_model/ridge.py:112: LinAlgWarning: scipy.linalg.solve\n",
      "Ill-conditioned matrix detected. Result is not guaranteed to be accurate.\n",
      "Reciprocal condition number2.429393e-19\n",
      "  overwrite_a=True).T\n",
      "/Users/akushwaha/Projects/pipe-api/.venv/lib/python3.6/site-packages/sklearn/linear_model/ridge.py:112: LinAlgWarning: scipy.linalg.solve\n",
      "Ill-conditioned matrix detected. Result is not guaranteed to be accurate.\n",
      "Reciprocal condition number2.481888e-19\n",
      "  overwrite_a=True).T\n",
      "/Users/akushwaha/Projects/pipe-api/.venv/lib/python3.6/site-packages/sklearn/linear_model/ridge.py:112: LinAlgWarning: scipy.linalg.solve\n",
      "Ill-conditioned matrix detected. Result is not guaranteed to be accurate.\n",
      "Reciprocal condition number2.390626e-19\n",
      "  overwrite_a=True).T\n",
      "/Users/akushwaha/Projects/pipe-api/.venv/lib/python3.6/site-packages/sklearn/linear_model/ridge.py:112: LinAlgWarning: scipy.linalg.solve\n",
      "Ill-conditioned matrix detected. Result is not guaranteed to be accurate.\n",
      "Reciprocal condition number2.436280e-19\n",
      "  overwrite_a=True).T\n",
      "/Users/akushwaha/Projects/pipe-api/.venv/lib/python3.6/site-packages/sklearn/linear_model/ridge.py:112: LinAlgWarning: scipy.linalg.solve\n",
      "Ill-conditioned matrix detected. Result is not guaranteed to be accurate.\n",
      "Reciprocal condition number2.380659e-19\n",
      "  overwrite_a=True).T\n",
      "/Users/akushwaha/Projects/pipe-api/.venv/lib/python3.6/site-packages/sklearn/linear_model/ridge.py:112: LinAlgWarning: scipy.linalg.solve\n",
      "Ill-conditioned matrix detected. Result is not guaranteed to be accurate.\n",
      "Reciprocal condition number2.428092e-19\n",
      "  overwrite_a=True).T\n",
      "/Users/akushwaha/Projects/pipe-api/.venv/lib/python3.6/site-packages/sklearn/linear_model/ridge.py:112: LinAlgWarning: scipy.linalg.solve\n",
      "Ill-conditioned matrix detected. Result is not guaranteed to be accurate.\n",
      "Reciprocal condition number2.404550e-19\n",
      "  overwrite_a=True).T\n",
      "/Users/akushwaha/Projects/pipe-api/.venv/lib/python3.6/site-packages/sklearn/linear_model/ridge.py:112: LinAlgWarning: scipy.linalg.solve\n",
      "Ill-conditioned matrix detected. Result is not guaranteed to be accurate.\n",
      "Reciprocal condition number2.710071e-19\n",
      "  overwrite_a=True).T\n",
      "/Users/akushwaha/Projects/pipe-api/.venv/lib/python3.6/site-packages/sklearn/linear_model/ridge.py:112: LinAlgWarning: scipy.linalg.solve\n",
      "Ill-conditioned matrix detected. Result is not guaranteed to be accurate.\n",
      "Reciprocal condition number2.640307e-19\n",
      "  overwrite_a=True).T\n",
      "/Users/akushwaha/Projects/pipe-api/.venv/lib/python3.6/site-packages/sklearn/linear_model/ridge.py:112: LinAlgWarning: scipy.linalg.solve\n",
      "Ill-conditioned matrix detected. Result is not guaranteed to be accurate.\n",
      "Reciprocal condition number2.445714e-19\n",
      "  overwrite_a=True).T\n",
      "/Users/akushwaha/Projects/pipe-api/.venv/lib/python3.6/site-packages/sklearn/linear_model/ridge.py:112: LinAlgWarning: scipy.linalg.solve\n",
      "Ill-conditioned matrix detected. Result is not guaranteed to be accurate.\n",
      "Reciprocal condition number2.349971e-18\n",
      "  overwrite_a=True).T\n",
      "/Users/akushwaha/Projects/pipe-api/.venv/lib/python3.6/site-packages/sklearn/linear_model/ridge.py:112: LinAlgWarning: scipy.linalg.solve\n",
      "Ill-conditioned matrix detected. Result is not guaranteed to be accurate.\n",
      "Reciprocal condition number2.440834e-18\n",
      "  overwrite_a=True).T\n",
      "/Users/akushwaha/Projects/pipe-api/.venv/lib/python3.6/site-packages/sklearn/linear_model/ridge.py:112: LinAlgWarning: scipy.linalg.solve\n",
      "Ill-conditioned matrix detected. Result is not guaranteed to be accurate.\n",
      "Reciprocal condition number2.370284e-18\n",
      "  overwrite_a=True).T\n",
      "/Users/akushwaha/Projects/pipe-api/.venv/lib/python3.6/site-packages/sklearn/linear_model/ridge.py:112: LinAlgWarning: scipy.linalg.solve\n",
      "Ill-conditioned matrix detected. Result is not guaranteed to be accurate.\n",
      "Reciprocal condition number2.611348e-18\n",
      "  overwrite_a=True).T\n",
      "/Users/akushwaha/Projects/pipe-api/.venv/lib/python3.6/site-packages/sklearn/linear_model/ridge.py:112: LinAlgWarning: scipy.linalg.solve\n",
      "Ill-conditioned matrix detected. Result is not guaranteed to be accurate.\n",
      "Reciprocal condition number2.366843e-18\n",
      "  overwrite_a=True).T\n",
      "/Users/akushwaha/Projects/pipe-api/.venv/lib/python3.6/site-packages/sklearn/linear_model/ridge.py:112: LinAlgWarning: scipy.linalg.solve\n",
      "Ill-conditioned matrix detected. Result is not guaranteed to be accurate.\n",
      "Reciprocal condition number2.329195e-18\n",
      "  overwrite_a=True).T\n",
      "/Users/akushwaha/Projects/pipe-api/.venv/lib/python3.6/site-packages/sklearn/linear_model/ridge.py:112: LinAlgWarning: scipy.linalg.solve\n",
      "Ill-conditioned matrix detected. Result is not guaranteed to be accurate.\n",
      "Reciprocal condition number2.372103e-18\n",
      "  overwrite_a=True).T\n",
      "/Users/akushwaha/Projects/pipe-api/.venv/lib/python3.6/site-packages/sklearn/linear_model/ridge.py:112: LinAlgWarning: scipy.linalg.solve\n",
      "Ill-conditioned matrix detected. Result is not guaranteed to be accurate.\n",
      "Reciprocal condition number2.396250e-18\n",
      "  overwrite_a=True).T\n",
      "/Users/akushwaha/Projects/pipe-api/.venv/lib/python3.6/site-packages/sklearn/linear_model/ridge.py:112: LinAlgWarning: scipy.linalg.solve\n",
      "Ill-conditioned matrix detected. Result is not guaranteed to be accurate.\n",
      "Reciprocal condition number2.665086e-18\n",
      "  overwrite_a=True).T\n",
      "/Users/akushwaha/Projects/pipe-api/.venv/lib/python3.6/site-packages/sklearn/linear_model/ridge.py:112: LinAlgWarning: scipy.linalg.solve\n",
      "Ill-conditioned matrix detected. Result is not guaranteed to be accurate.\n",
      "Reciprocal condition number2.339880e-18\n",
      "  overwrite_a=True).T\n",
      "/Users/akushwaha/Projects/pipe-api/.venv/lib/python3.6/site-packages/sklearn/linear_model/ridge.py:112: LinAlgWarning: scipy.linalg.solve\n",
      "Ill-conditioned matrix detected. Result is not guaranteed to be accurate.\n",
      "Reciprocal condition number2.435702e-17\n",
      "  overwrite_a=True).T\n",
      "/Users/akushwaha/Projects/pipe-api/.venv/lib/python3.6/site-packages/sklearn/linear_model/ridge.py:112: LinAlgWarning: scipy.linalg.solve\n",
      "Ill-conditioned matrix detected. Result is not guaranteed to be accurate.\n",
      "Reciprocal condition number2.505823e-17\n",
      "  overwrite_a=True).T\n",
      "/Users/akushwaha/Projects/pipe-api/.venv/lib/python3.6/site-packages/sklearn/linear_model/ridge.py:112: LinAlgWarning: scipy.linalg.solve\n",
      "Ill-conditioned matrix detected. Result is not guaranteed to be accurate.\n",
      "Reciprocal condition number2.469863e-17\n",
      "  overwrite_a=True).T\n",
      "/Users/akushwaha/Projects/pipe-api/.venv/lib/python3.6/site-packages/sklearn/linear_model/ridge.py:112: LinAlgWarning: scipy.linalg.solve\n",
      "Ill-conditioned matrix detected. Result is not guaranteed to be accurate.\n",
      "Reciprocal condition number2.465111e-17\n",
      "  overwrite_a=True).T\n",
      "/Users/akushwaha/Projects/pipe-api/.venv/lib/python3.6/site-packages/sklearn/linear_model/ridge.py:112: LinAlgWarning: scipy.linalg.solve\n",
      "Ill-conditioned matrix detected. Result is not guaranteed to be accurate.\n",
      "Reciprocal condition number2.454133e-17\n",
      "  overwrite_a=True).T\n",
      "/Users/akushwaha/Projects/pipe-api/.venv/lib/python3.6/site-packages/sklearn/linear_model/ridge.py:112: LinAlgWarning: scipy.linalg.solve\n",
      "Ill-conditioned matrix detected. Result is not guaranteed to be accurate.\n",
      "Reciprocal condition number2.535405e-17\n",
      "  overwrite_a=True).T\n",
      "/Users/akushwaha/Projects/pipe-api/.venv/lib/python3.6/site-packages/sklearn/linear_model/ridge.py:112: LinAlgWarning: scipy.linalg.solve\n",
      "Ill-conditioned matrix detected. Result is not guaranteed to be accurate.\n",
      "Reciprocal condition number2.574699e-17\n",
      "  overwrite_a=True).T\n",
      "/Users/akushwaha/Projects/pipe-api/.venv/lib/python3.6/site-packages/sklearn/linear_model/ridge.py:112: LinAlgWarning: scipy.linalg.solve\n",
      "Ill-conditioned matrix detected. Result is not guaranteed to be accurate.\n",
      "Reciprocal condition number3.106270e-17\n",
      "  overwrite_a=True).T\n",
      "/Users/akushwaha/Projects/pipe-api/.venv/lib/python3.6/site-packages/sklearn/linear_model/ridge.py:112: LinAlgWarning: scipy.linalg.solve\n",
      "Ill-conditioned matrix detected. Result is not guaranteed to be accurate.\n",
      "Reciprocal condition number2.875288e-17\n",
      "  overwrite_a=True).T\n",
      "/Users/akushwaha/Projects/pipe-api/.venv/lib/python3.6/site-packages/sklearn/linear_model/ridge.py:112: LinAlgWarning: scipy.linalg.solve\n",
      "Ill-conditioned matrix detected. Result is not guaranteed to be accurate.\n",
      "Reciprocal condition number2.545049e-17\n",
      "  overwrite_a=True).T\n"
     ]
    },
    {
     "name": "stderr",
     "output_type": "stream",
     "text": [
      "/Users/akushwaha/Projects/pipe-api/.venv/lib/python3.6/site-packages/sklearn/linear_model/ridge.py:112: LinAlgWarning: scipy.linalg.solve\n",
      "Ill-conditioned matrix detected. Result is not guaranteed to be accurate.\n",
      "Reciprocal condition number2.247685e-17\n",
      "  overwrite_a=True).T\n"
     ]
    }
   ],
   "source": [
    "model = ridge_classifier_cv.fit(X, Y)"
   ]
  },
  {
   "cell_type": "code",
   "execution_count": 26,
   "metadata": {},
   "outputs": [
    {
     "data": {
      "text/plain": [
       "array([[ -5.78531371e-02,   1.28802968e-03,   3.61012874e-03, ...,\n",
       "          3.25075054e-05,   2.06347735e-03,   2.15230690e-04],\n",
       "       [ -1.85741710e-02,   4.19568876e-03,   5.46595789e-03, ...,\n",
       "          2.21847511e-05,  -2.54993679e-03,   2.44170654e-04],\n",
       "       [ -1.55942481e-02,  -9.45214420e-04,   8.68299430e-04, ...,\n",
       "          2.41051722e-05,   4.72443946e-04,  -6.11653601e-04],\n",
       "       ..., \n",
       "       [  5.63176527e-03,  -2.90290118e-03,  -4.05690297e-03, ...,\n",
       "          3.46538409e-05,   7.98796768e-05,  -1.74860831e-03],\n",
       "       [ -1.41946077e-02,   1.78079154e-03,   2.28368759e-03, ...,\n",
       "          1.76824835e-06,  -1.05859785e-04,  -1.96861465e-05],\n",
       "       [  5.17738161e-02,  -3.34814050e-03,  -4.85082223e-03, ...,\n",
       "          5.16634164e-05,  -2.08861014e-04,   8.15484576e-05]])"
      ]
     },
     "execution_count": 26,
     "metadata": {},
     "output_type": "execute_result"
    }
   ],
   "source": [
    "model.coef_"
   ]
  },
  {
   "cell_type": "code",
   "execution_count": 24,
   "metadata": {},
   "outputs": [
    {
     "data": {
      "text/plain": [
       "(64, 487)"
      ]
     },
     "execution_count": 24,
     "metadata": {},
     "output_type": "execute_result"
    }
   ],
   "source": [
    "model.coef_.shape"
   ]
  },
  {
   "cell_type": "markdown",
   "metadata": {},
   "source": [
    "## To calculate the weights of each feature:\n",
    "I need to train one classifier per label\n",
    "given a track train a model for telling whether the mood is happy or not. Once done, it will learn weights about how important each feature for classifying \"happy mood\"\n",
    "to calculate the weights of each features\n",
    "\n",
    "Then I can average all the weights, i.e., each classifier will give what weights it assign to each feature, need to take an average along  each feature dimension. This will give how important each feature dimension is for the mood classification task. Later, we need to calculate Euclidean distance by scaling each dimension to its learned weight."
   ]
  },
  {
   "cell_type": "code",
   "execution_count": 30,
   "metadata": {},
   "outputs": [],
   "source": [
    "from matplotlib import pyplot as plt"
   ]
  },
  {
   "cell_type": "code",
   "execution_count": 35,
   "metadata": {},
   "outputs": [],
   "source": [
    "def label_feature_importances(label, top=10):\n",
    "        coef = model.coef_ # Label-Feature importance matrix\n",
    "        names = list(features_df.columns)\n",
    "        class_name = label # label for which the graph needs to be plotted\n",
    "        index = le.transform([label])[0] #  To get the index of the label in the model.coef_ matrix\n",
    "        classes_coef = coef[index] # Extract the feature importance row from the model.coef_ matrix \n",
    "        print('Feature Importance for Feaure: {}'.format(class_name))\n",
    "        imp, names = zip(*sorted(zip(classes_coef, names)))\n",
    "        sliced_imp = imp[-top:] # Select the last top elements from the list\n",
    "        sliced_names = names[-top:]        \n",
    "        plt.barh(range(len(sliced_names)), sliced_imp, align='center')\n",
    "        plt.yticks(range(len(sliced_names)), sliced_names)\n",
    "        plt.show()"
   ]
  },
  {
   "cell_type": "code",
   "execution_count": 36,
   "metadata": {},
   "outputs": [
    {
     "data": {
      "text/plain": [
       "31"
      ]
     },
     "execution_count": 36,
     "metadata": {},
     "output_type": "execute_result"
    }
   ],
   "source": [
    "le.transform(['Horror'])[0]"
   ]
  },
  {
   "cell_type": "code",
   "execution_count": 37,
   "metadata": {},
   "outputs": [
    {
     "data": {
      "text/plain": [
       "array(['Ambient', 'Anger', 'Anthemic', 'Background', 'Ballads',\n",
       "       'Beautiful', 'Beds', 'Bright', 'Celebration', 'Cheese', 'Chill Out',\n",
       "       'Cold', 'Cumbersome', 'Dance', 'Dance Club', 'Dark', 'Dawn',\n",
       "       'Drama', 'Dramatic', 'Dream', 'Driving', 'Drone', 'Electronic',\n",
       "       'Erotic', 'Exotic', 'Fantasy', 'Frantic', 'Funny', 'Ghostly',\n",
       "       'Happy', 'Heroic', 'Horror', 'Hot', 'Hypnotic', 'Inspiring',\n",
       "       'Intimate', 'Jaunty', 'Laid Back', 'Light Tension', 'Luxury',\n",
       "       'Magic', 'Majestic', 'Neutral', 'Nostalgic', 'Orchestral',\n",
       "       'Panoramic', 'Peaceful', 'Power', 'Quirky', 'Regal', 'Romantic',\n",
       "       'Sad', 'Schmaltz', 'Sci-Fi', 'Sea', 'Sexy', 'Simple', 'Slow Motion',\n",
       "       'Stealth', 'Tension', 'Thoughtful', 'Urban', 'Violence', 'Warm'], dtype=object)"
      ]
     },
     "execution_count": 37,
     "metadata": {},
     "output_type": "execute_result"
    }
   ],
   "source": [
    "le.classes_"
   ]
  },
  {
   "cell_type": "code",
   "execution_count": 39,
   "metadata": {},
   "outputs": [
    {
     "name": "stdout",
     "output_type": "stream",
     "text": [
      "Feature Importance for Feaure: Warm\n"
     ]
    },
    {
     "data": {
      "image/png": "[encoded data removed]",
      "text/plain": [
       "<Figure size 432x288 with 1 Axes>"
      ]
     },
     "metadata": {
      "needs_background": "light"
     },
     "output_type": "display_data"
    }
   ],
   "source": [
    "label_feature_importances('Warm')"
   ]
  },
  {
   "cell_type": "code",
   "execution_count": 40,
   "metadata": {},
   "outputs": [
    {
     "name": "stdout",
     "output_type": "stream",
     "text": [
      "Feature Importance for Feaure: Happy\n"
     ]
    },
    {
     "data": {
      "image/png": "[encoded data removed]",
      "text/plain": [
       "<Figure size 432x288 with 1 Axes>"
      ]
     },
     "metadata": {
      "needs_background": "light"
     },
     "output_type": "display_data"
    }
   ],
   "source": [
    "label_feature_importances('Happy')"
   ]
  },
  {
   "cell_type": "code",
   "execution_count": 41,
   "metadata": {},
   "outputs": [
    {
     "name": "stdout",
     "output_type": "stream",
     "text": [
      "Feature Importance for Feaure: Sad\n"
     ]
    },
    {
     "data": {
      "image/png": "[encoded data removed]",
      "text/plain": [
       "<Figure size 432x288 with 1 Axes>"
      ]
     },
     "metadata": {
      "needs_background": "light"
     },
     "output_type": "display_data"
    }
   ],
   "source": [
    "label_feature_importances('Sad')"
   ]
  },
  {
   "cell_type": "code",
   "execution_count": 42,
   "metadata": {},
   "outputs": [],
   "source": [
    "def plot_all_feature_importances(top=20):  \n",
    "    coef = model.coef_\n",
    "    names = list(df.columns.difference(['mood metadata']))\n",
    "\n",
    "    for index, classes_coef in enumerate(coef):\n",
    "        class_name = le.inverse_transform(index)\n",
    "        print('Feature Importance for Feaure: {}'.format(class_name))\n",
    "        imp, names = zip(*sorted(zip(classes_coef, names)))\n",
    "        imp = imp[-top:]\n",
    "        names = names[-top:]        \n",
    "        plt.barh(range(len(names)), imp, align='center')\n",
    "        plt.yticks(range(len(names)), names)\n",
    "        plt.show()\n",
    "        inp = input(\"press 'q' to quit(just Enter to continue...)\")\n",
    "        if inp == 'q':\n",
    "            break\n",
    "            "
   ]
  },
  {
   "cell_type": "code",
   "execution_count": 44,
   "metadata": {},
   "outputs": [
    {
     "name": "stdout",
     "output_type": "stream",
     "text": [
      "Feature Importance for Feaure: Ambient\n"
     ]
    },
    {
     "data": {
      "image/png": "[encoded data removed]",
      "text/plain": [
       "<Figure size 432x288 with 1 Axes>"
      ]
     },
     "metadata": {
      "needs_background": "light"
     },
     "output_type": "display_data"
    },
    {
     "name": "stdout",
     "output_type": "stream",
     "text": [
      "press 'q' to quit(just Enter to continue...)\n",
      "Feature Importance for Feaure: Anger\n"
     ]
    },
    {
     "data": {
      "image/png": "[encoded data removed]",
      "text/plain": [
       "<Figure size 432x288 with 1 Axes>"
      ]
     },
     "metadata": {
      "needs_background": "light"
     },
     "output_type": "display_data"
    },
    {
     "name": "stdout",
     "output_type": "stream",
     "text": [
      "press 'q' to quit(just Enter to continue...)q\n"
     ]
    }
   ],
   "source": [
    "plot_all_feature_importances(15)"
   ]
  },
  {
   "cell_type": "code",
   "execution_count": null,
   "metadata": {},
   "outputs": [],
   "source": []
  }
 ],
 "metadata": {
  "kernelspec": {
   "display_name": "Python 3",
   "language": "python",
   "name": "python3"
  },
  "language_info": {
   "codemirror_mode": {
    "name": "ipython",
    "version": 3
   },
   "file_extension": ".py",
   "mimetype": "text/x-python",
   "name": "python",
   "nbconvert_exporter": "python",
   "pygments_lexer": "ipython3",
   "version": "3.6.5"
  }
 },
 "nbformat": 4,
 "nbformat_minor": 2
}
