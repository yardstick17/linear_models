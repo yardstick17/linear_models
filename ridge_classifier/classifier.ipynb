{
 "cells": [
  {
   "cell_type": "code",
   "execution_count": 1,
   "metadata": {},
   "outputs": [],
   "source": [
    "import pandas as pd\n",
    "from sklearn import linear_model\n",
    "from sklearn import preprocessing"
   ]
  },
  {
   "cell_type": "code",
   "execution_count": 2,
   "metadata": {},
   "outputs": [
    {
     "data": {
      "text/html": [
       "<div>\n",
       "<style scoped>\n",
       "    .dataframe tbody tr th:only-of-type {\n",
       "        vertical-align: middle;\n",
       "    }\n",
       "\n",
       "    .dataframe tbody tr th {\n",
       "        vertical-align: top;\n",
       "    }\n",
       "\n",
       "    .dataframe thead th {\n",
       "        text-align: right;\n",
       "    }\n",
       "</style>\n",
       "<table border=\"1\" class=\"dataframe\">\n",
       "  <thead>\n",
       "    <tr style=\"text-align: right;\">\n",
       "      <th></th>\n",
       "      <th>EB1rmsenergy10ms mean 1</th>\n",
       "      <th>EB1rmsenergy10ms sd 1</th>\n",
       "      <th>EB3intensity mean 1</th>\n",
       "      <th>EB3intensity sd 1</th>\n",
       "      <th>EL1totalloudness mean 1</th>\n",
       "      <th>EL1totalloudness sd 1</th>\n",
       "      <th>HL1firsttristimulus mean 1</th>\n",
       "      <th>HL1firsttristimulus sd 1</th>\n",
       "      <th>HL2secondtristimulus mean 1</th>\n",
       "      <th>HL2secondtristimulus sd 1</th>\n",
       "      <th>...</th>\n",
       "      <th>TL2variance sd 1</th>\n",
       "      <th>TL3nonzerocount mean 1</th>\n",
       "      <th>TL3nonzerocount sd 1</th>\n",
       "      <th>TL4lowestvalue mean 1</th>\n",
       "      <th>TL4lowestvalue sd 1</th>\n",
       "      <th>TL5highestvalue mean 1</th>\n",
       "      <th>TL5highestvalue sd 1</th>\n",
       "      <th>TL6averagedeviation mean 1</th>\n",
       "      <th>TL6averagedeviation sd 1</th>\n",
       "      <th>mood metadata</th>\n",
       "    </tr>\n",
       "  </thead>\n",
       "  <tbody>\n",
       "    <tr>\n",
       "      <th>100-club_anw1131_001.mp3</th>\n",
       "      <td>0.240140</td>\n",
       "      <td>0.060702</td>\n",
       "      <td>728.928</td>\n",
       "      <td>252.644</td>\n",
       "      <td>0.755427</td>\n",
       "      <td>0.129525</td>\n",
       "      <td>0.693388</td>\n",
       "      <td>0.216468</td>\n",
       "      <td>0.110481</td>\n",
       "      <td>0.111591</td>\n",
       "      <td>...</td>\n",
       "      <td>13145300</td>\n",
       "      <td>14.67830</td>\n",
       "      <td>13.1406</td>\n",
       "      <td>0.054871</td>\n",
       "      <td>0.020054</td>\n",
       "      <td>0.712033</td>\n",
       "      <td>0.246817</td>\n",
       "      <td>2833.03</td>\n",
       "      <td>1340.11</td>\n",
       "      <td>Bright</td>\n",
       "    </tr>\n",
       "    <tr>\n",
       "      <th>1000-daggers_anw1369_008.mp3</th>\n",
       "      <td>0.105963</td>\n",
       "      <td>0.055528</td>\n",
       "      <td>320.105</td>\n",
       "      <td>158.405</td>\n",
       "      <td>0.772353</td>\n",
       "      <td>0.092986</td>\n",
       "      <td>0.688717</td>\n",
       "      <td>0.233605</td>\n",
       "      <td>0.108136</td>\n",
       "      <td>0.129063</td>\n",
       "      <td>...</td>\n",
       "      <td>11085900</td>\n",
       "      <td>13.08280</td>\n",
       "      <td>10.7179</td>\n",
       "      <td>0.025222</td>\n",
       "      <td>0.017246</td>\n",
       "      <td>0.312729</td>\n",
       "      <td>0.154776</td>\n",
       "      <td>3663.17</td>\n",
       "      <td>1258.92</td>\n",
       "      <td>Driving</td>\n",
       "    </tr>\n",
       "    <tr>\n",
       "      <th>18-forever_anw1345_002.mp3</th>\n",
       "      <td>0.176853</td>\n",
       "      <td>0.090519</td>\n",
       "      <td>784.077</td>\n",
       "      <td>354.278</td>\n",
       "      <td>0.778773</td>\n",
       "      <td>0.131538</td>\n",
       "      <td>0.633216</td>\n",
       "      <td>0.244079</td>\n",
       "      <td>0.197348</td>\n",
       "      <td>0.167304</td>\n",
       "      <td>...</td>\n",
       "      <td>12105200</td>\n",
       "      <td>8.96436</td>\n",
       "      <td>13.1811</td>\n",
       "      <td>0.039578</td>\n",
       "      <td>0.030691</td>\n",
       "      <td>0.766027</td>\n",
       "      <td>0.346173</td>\n",
       "      <td>5074.35</td>\n",
       "      <td>1187.75</td>\n",
       "      <td>Frantic</td>\n",
       "    </tr>\n",
       "    <tr>\n",
       "      <th>3-in-1-tribalism_anw1992_004.mp3</th>\n",
       "      <td>0.141666</td>\n",
       "      <td>0.069601</td>\n",
       "      <td>372.860</td>\n",
       "      <td>219.924</td>\n",
       "      <td>0.683732</td>\n",
       "      <td>0.175177</td>\n",
       "      <td>0.699034</td>\n",
       "      <td>0.251840</td>\n",
       "      <td>0.134497</td>\n",
       "      <td>0.157578</td>\n",
       "      <td>...</td>\n",
       "      <td>8154260</td>\n",
       "      <td>12.19650</td>\n",
       "      <td>11.1964</td>\n",
       "      <td>0.037016</td>\n",
       "      <td>0.022369</td>\n",
       "      <td>0.364177</td>\n",
       "      <td>0.214875</td>\n",
       "      <td>2313.27</td>\n",
       "      <td>1214.24</td>\n",
       "      <td>Power</td>\n",
       "    </tr>\n",
       "    <tr>\n",
       "      <th>a-beautiful-ending_anw2771_003.mp3</th>\n",
       "      <td>0.113067</td>\n",
       "      <td>0.068926</td>\n",
       "      <td>240.435</td>\n",
       "      <td>140.383</td>\n",
       "      <td>0.558260</td>\n",
       "      <td>0.113480</td>\n",
       "      <td>0.658452</td>\n",
       "      <td>0.275075</td>\n",
       "      <td>0.132034</td>\n",
       "      <td>0.182691</td>\n",
       "      <td>...</td>\n",
       "      <td>36823400</td>\n",
       "      <td>13.48280</td>\n",
       "      <td>12.6010</td>\n",
       "      <td>0.028043</td>\n",
       "      <td>0.019774</td>\n",
       "      <td>0.234765</td>\n",
       "      <td>0.137180</td>\n",
       "      <td>2207.44</td>\n",
       "      <td>2752.70</td>\n",
       "      <td>Peaceful</td>\n",
       "    </tr>\n",
       "  </tbody>\n",
       "</table>\n",
       "<p>5 rows × 488 columns</p>\n",
       "</div>"
      ],
      "text/plain": [
       "                                    EB1rmsenergy10ms mean 1  \\\n",
       "100-club_anw1131_001.mp3                           0.240140   \n",
       "1000-daggers_anw1369_008.mp3                       0.105963   \n",
       "18-forever_anw1345_002.mp3                         0.176853   \n",
       "3-in-1-tribalism_anw1992_004.mp3                   0.141666   \n",
       "a-beautiful-ending_anw2771_003.mp3                 0.113067   \n",
       "\n",
       "                                    EB1rmsenergy10ms sd 1  \\\n",
       "100-club_anw1131_001.mp3                         0.060702   \n",
       "1000-daggers_anw1369_008.mp3                     0.055528   \n",
       "18-forever_anw1345_002.mp3                       0.090519   \n",
       "3-in-1-tribalism_anw1992_004.mp3                 0.069601   \n",
       "a-beautiful-ending_anw2771_003.mp3               0.068926   \n",
       "\n",
       "                                    EB3intensity mean 1  EB3intensity sd 1  \\\n",
       "100-club_anw1131_001.mp3                        728.928            252.644   \n",
       "1000-daggers_anw1369_008.mp3                    320.105            158.405   \n",
       "18-forever_anw1345_002.mp3                      784.077            354.278   \n",
       "3-in-1-tribalism_anw1992_004.mp3                372.860            219.924   \n",
       "a-beautiful-ending_anw2771_003.mp3              240.435            140.383   \n",
       "\n",
       "                                    EL1totalloudness mean 1  \\\n",
       "100-club_anw1131_001.mp3                           0.755427   \n",
       "1000-daggers_anw1369_008.mp3                       0.772353   \n",
       "18-forever_anw1345_002.mp3                         0.778773   \n",
       "3-in-1-tribalism_anw1992_004.mp3                   0.683732   \n",
       "a-beautiful-ending_anw2771_003.mp3                 0.558260   \n",
       "\n",
       "                                    EL1totalloudness sd 1  \\\n",
       "100-club_anw1131_001.mp3                         0.129525   \n",
       "1000-daggers_anw1369_008.mp3                     0.092986   \n",
       "18-forever_anw1345_002.mp3                       0.131538   \n",
       "3-in-1-tribalism_anw1992_004.mp3                 0.175177   \n",
       "a-beautiful-ending_anw2771_003.mp3               0.113480   \n",
       "\n",
       "                                    HL1firsttristimulus mean 1  \\\n",
       "100-club_anw1131_001.mp3                              0.693388   \n",
       "1000-daggers_anw1369_008.mp3                          0.688717   \n",
       "18-forever_anw1345_002.mp3                            0.633216   \n",
       "3-in-1-tribalism_anw1992_004.mp3                      0.699034   \n",
       "a-beautiful-ending_anw2771_003.mp3                    0.658452   \n",
       "\n",
       "                                    HL1firsttristimulus sd 1  \\\n",
       "100-club_anw1131_001.mp3                            0.216468   \n",
       "1000-daggers_anw1369_008.mp3                        0.233605   \n",
       "18-forever_anw1345_002.mp3                          0.244079   \n",
       "3-in-1-tribalism_anw1992_004.mp3                    0.251840   \n",
       "a-beautiful-ending_anw2771_003.mp3                  0.275075   \n",
       "\n",
       "                                    HL2secondtristimulus mean 1  \\\n",
       "100-club_anw1131_001.mp3                               0.110481   \n",
       "1000-daggers_anw1369_008.mp3                           0.108136   \n",
       "18-forever_anw1345_002.mp3                             0.197348   \n",
       "3-in-1-tribalism_anw1992_004.mp3                       0.134497   \n",
       "a-beautiful-ending_anw2771_003.mp3                     0.132034   \n",
       "\n",
       "                                    HL2secondtristimulus sd 1      ...        \\\n",
       "100-club_anw1131_001.mp3                             0.111591      ...         \n",
       "1000-daggers_anw1369_008.mp3                         0.129063      ...         \n",
       "18-forever_anw1345_002.mp3                           0.167304      ...         \n",
       "3-in-1-tribalism_anw1992_004.mp3                     0.157578      ...         \n",
       "a-beautiful-ending_anw2771_003.mp3                   0.182691      ...         \n",
       "\n",
       "                                    TL2variance sd 1  TL3nonzerocount mean 1  \\\n",
       "100-club_anw1131_001.mp3                    13145300                14.67830   \n",
       "1000-daggers_anw1369_008.mp3                11085900                13.08280   \n",
       "18-forever_anw1345_002.mp3                  12105200                 8.96436   \n",
       "3-in-1-tribalism_anw1992_004.mp3             8154260                12.19650   \n",
       "a-beautiful-ending_anw2771_003.mp3          36823400                13.48280   \n",
       "\n",
       "                                    TL3nonzerocount sd 1  \\\n",
       "100-club_anw1131_001.mp3                         13.1406   \n",
       "1000-daggers_anw1369_008.mp3                     10.7179   \n",
       "18-forever_anw1345_002.mp3                       13.1811   \n",
       "3-in-1-tribalism_anw1992_004.mp3                 11.1964   \n",
       "a-beautiful-ending_anw2771_003.mp3               12.6010   \n",
       "\n",
       "                                    TL4lowestvalue mean 1  \\\n",
       "100-club_anw1131_001.mp3                         0.054871   \n",
       "1000-daggers_anw1369_008.mp3                     0.025222   \n",
       "18-forever_anw1345_002.mp3                       0.039578   \n",
       "3-in-1-tribalism_anw1992_004.mp3                 0.037016   \n",
       "a-beautiful-ending_anw2771_003.mp3               0.028043   \n",
       "\n",
       "                                    TL4lowestvalue sd 1  \\\n",
       "100-club_anw1131_001.mp3                       0.020054   \n",
       "1000-daggers_anw1369_008.mp3                   0.017246   \n",
       "18-forever_anw1345_002.mp3                     0.030691   \n",
       "3-in-1-tribalism_anw1992_004.mp3               0.022369   \n",
       "a-beautiful-ending_anw2771_003.mp3             0.019774   \n",
       "\n",
       "                                    TL5highestvalue mean 1  \\\n",
       "100-club_anw1131_001.mp3                          0.712033   \n",
       "1000-daggers_anw1369_008.mp3                      0.312729   \n",
       "18-forever_anw1345_002.mp3                        0.766027   \n",
       "3-in-1-tribalism_anw1992_004.mp3                  0.364177   \n",
       "a-beautiful-ending_anw2771_003.mp3                0.234765   \n",
       "\n",
       "                                    TL5highestvalue sd 1  \\\n",
       "100-club_anw1131_001.mp3                        0.246817   \n",
       "1000-daggers_anw1369_008.mp3                    0.154776   \n",
       "18-forever_anw1345_002.mp3                      0.346173   \n",
       "3-in-1-tribalism_anw1992_004.mp3                0.214875   \n",
       "a-beautiful-ending_anw2771_003.mp3              0.137180   \n",
       "\n",
       "                                    TL6averagedeviation mean 1  \\\n",
       "100-club_anw1131_001.mp3                               2833.03   \n",
       "1000-daggers_anw1369_008.mp3                           3663.17   \n",
       "18-forever_anw1345_002.mp3                             5074.35   \n",
       "3-in-1-tribalism_anw1992_004.mp3                       2313.27   \n",
       "a-beautiful-ending_anw2771_003.mp3                     2207.44   \n",
       "\n",
       "                                    TL6averagedeviation sd 1   mood metadata  \n",
       "100-club_anw1131_001.mp3                              1340.11        Bright   \n",
       "1000-daggers_anw1369_008.mp3                          1258.92       Driving   \n",
       "18-forever_anw1345_002.mp3                            1187.75       Frantic   \n",
       "3-in-1-tribalism_anw1992_004.mp3                      1214.24         Power   \n",
       "a-beautiful-ending_anw2771_003.mp3                    2752.70      Peaceful   \n",
       "\n",
       "[5 rows x 488 columns]"
      ]
     },
     "execution_count": 2,
     "metadata": {},
     "output_type": "execute_result"
    }
   ],
   "source": [
    "dataset_file = 'dataset.csv'\n",
    "df = pd.read_csv(dataset_file, index_col=0)\n",
    "df.head()"
   ]
  },
  {
   "cell_type": "code",
   "execution_count": 3,
   "metadata": {},
   "outputs": [
    {
     "data": {
      "text/plain": [
       "100-club_anw1131_001.mp3                Bright \n",
       "1000-daggers_anw1369_008.mp3           Driving \n",
       "18-forever_anw1345_002.mp3             Frantic \n",
       "3-in-1-tribalism_anw1992_004.mp3         Power \n",
       "a-beautiful-ending_anw2771_003.mp3    Peaceful \n",
       "Name: mood metadata, dtype: object"
      ]
     },
     "execution_count": 3,
     "metadata": {},
     "output_type": "execute_result"
    }
   ],
   "source": [
    "labels = df['mood metadata']\n",
    "labels.head()"
   ]
  },
  {
   "cell_type": "code",
   "execution_count": 4,
   "metadata": {},
   "outputs": [],
   "source": [
    "features_df = df[df.columns.difference(['mood metadata'])]"
   ]
  },
  {
   "cell_type": "code",
   "execution_count": 5,
   "metadata": {},
   "outputs": [
    {
     "name": "stderr",
     "output_type": "stream",
     "text": [
      "/Users/akushwaha/PycharmProjects/HappyOrNot/.venv/lib/python3.6/site-packages/ipykernel_launcher.py:1: FutureWarning: Method .as_matrix will be removed in a future version. Use .values instead.\n",
      "  \"\"\"Entry point for launching an IPython kernel.\n"
     ]
    }
   ],
   "source": [
    "X = features_df.as_matrix()"
   ]
  },
  {
   "cell_type": "code",
   "execution_count": 6,
   "metadata": {},
   "outputs": [],
   "source": [
    "le = preprocessing.LabelEncoder()\n",
    "le.fit(labels)\n",
    "Y = le.transform(labels)"
   ]
  },
  {
   "cell_type": "code",
   "execution_count": 7,
   "metadata": {},
   "outputs": [
    {
     "data": {
      "text/plain": [
       "array([[ 4.78741e-02,  2.40140e-01,  6.07025e-02, ...,  2.46817e-01,\n",
       "         2.83303e+03,  1.34011e+03],\n",
       "       [-1.09887e-02,  1.05963e-01,  5.55278e-02, ...,  1.54776e-01,\n",
       "         3.66317e+03,  1.25892e+03],\n",
       "       [ 8.27871e-02,  1.76853e-01,  9.05193e-02, ...,  3.46173e-01,\n",
       "         5.07435e+03,  1.18775e+03],\n",
       "       ...,\n",
       "       [-1.29742e-01,  6.97167e-02,  4.79892e-02, ...,  1.58649e-01,\n",
       "         3.58837e+03,  1.96510e+03],\n",
       "       [-2.89274e-01,  1.24216e-01,  6.52597e-02, ...,  9.82264e-02,\n",
       "         9.00845e+02,  7.62604e+02],\n",
       "       [ 3.67516e-01,  4.67684e-02,  5.73761e-02, ...,  3.22150e-01,\n",
       "         4.69042e+03,  1.77437e+03]])"
      ]
     },
     "execution_count": 7,
     "metadata": {},
     "output_type": "execute_result"
    }
   ],
   "source": [
    "X"
   ]
  },
  {
   "cell_type": "code",
   "execution_count": 8,
   "metadata": {},
   "outputs": [
    {
     "data": {
      "text/plain": [
       "array([10, 30, 39, ..., 40, 29, 58])"
      ]
     },
     "execution_count": 8,
     "metadata": {},
     "output_type": "execute_result"
    }
   ],
   "source": [
    "Y"
   ]
  },
  {
   "cell_type": "code",
   "execution_count": 9,
   "metadata": {},
   "outputs": [
    {
     "data": {
      "text/plain": [
       "array(['Bright ', 'Driving ', 'Frantic ', 'Power ', 'Peaceful ', 'Sad ',\n",
       "       'Drama ', 'Dance Club ', 'Urban ', 'Romantic ', 'Neutral ',\n",
       "       'Warm ', 'Funny ', 'Thoughtful ', 'Fantasy ', 'Orchestral ',\n",
       "       'Quirky ', 'Jaunty ', 'Cheese ', 'Tension ', 'Dawn ',\n",
       "       'Celebration ', 'Romantic', 'Sci-Fi ', 'Exotic ', 'Luxury ',\n",
       "       'Ambient ', 'Chill Out ', 'Majestic ', 'Inspiring ', 'Hypnotic',\n",
       "       'Nostalgic ', 'Panoramic ', 'Beautiful ', 'Dream ', 'Dramatic ',\n",
       "       'Laid Back ', 'Light Tension ', 'Heroic ', 'Dark ', 'Anger ',\n",
       "       'Drama', 'Intimate ', 'Urban', 'Horror ', 'Regal ', 'Electronic ',\n",
       "       'Tension', 'Happy ', 'Hot ', 'Hypnotic ', 'Ballads ', 'Laid Back',\n",
       "       'Sad', 'Panoramic', 'Ballads', 'Cumbersome ', 'Nostalgic',\n",
       "       'Ghostly ', 'Celebration', 'Stealth ', 'Dark', 'Sexy ', 'Drone ',\n",
       "       'Violence ', 'Dance ', 'Dance Club', 'Anthemic ', 'Magic ',\n",
       "       'Simple ', 'Dramatic', 'Neutral', 'Cold ', 'Background ',\n",
       "       'Electronic', 'Anthemic', 'Exotic', 'Beautiful', 'Chill Out',\n",
       "       'Slow Motion ', 'Sea ', 'Orchestral', 'Erotic ', 'Fantasy',\n",
       "       'Schmaltz ', 'Stealth', 'Beds ', 'Dawn', 'Light Tension'],\n",
       "      dtype=object)"
      ]
     },
     "execution_count": 9,
     "metadata": {},
     "output_type": "execute_result"
    }
   ],
   "source": [
    "labels.unique()"
   ]
  },
  {
   "cell_type": "code",
   "execution_count": 10,
   "metadata": {},
   "outputs": [
    {
     "data": {
      "text/plain": [
       "89"
      ]
     },
     "execution_count": 10,
     "metadata": {},
     "output_type": "execute_result"
    }
   ],
   "source": [
    "len(labels.unique())"
   ]
  },
  {
   "cell_type": "code",
   "execution_count": 11,
   "metadata": {},
   "outputs": [],
   "source": [
    "ridge_classifier_cv = linear_model.RidgeClassifierCV(cv=10)"
   ]
  },
  {
   "cell_type": "code",
   "execution_count": 12,
   "metadata": {},
   "outputs": [
    {
     "name": "stderr",
     "output_type": "stream",
     "text": [
      "/Users/akushwaha/PycharmProjects/HappyOrNot/.venv/lib/python3.6/site-packages/sklearn/linear_model/ridge.py:112: LinAlgWarning: scipy.linalg.solve\n",
      "Ill-conditioned matrix detected. Result is not guaranteed to be accurate.\n",
      "Reciprocal condition number2.429393e-19\n",
      "  overwrite_a=True).T\n",
      "/Users/akushwaha/PycharmProjects/HappyOrNot/.venv/lib/python3.6/site-packages/sklearn/linear_model/ridge.py:112: LinAlgWarning: scipy.linalg.solve\n",
      "Ill-conditioned matrix detected. Result is not guaranteed to be accurate.\n",
      "Reciprocal condition number2.481888e-19\n",
      "  overwrite_a=True).T\n",
      "/Users/akushwaha/PycharmProjects/HappyOrNot/.venv/lib/python3.6/site-packages/sklearn/linear_model/ridge.py:112: LinAlgWarning: scipy.linalg.solve\n",
      "Ill-conditioned matrix detected. Result is not guaranteed to be accurate.\n",
      "Reciprocal condition number2.390626e-19\n",
      "  overwrite_a=True).T\n",
      "/Users/akushwaha/PycharmProjects/HappyOrNot/.venv/lib/python3.6/site-packages/sklearn/linear_model/ridge.py:112: LinAlgWarning: scipy.linalg.solve\n",
      "Ill-conditioned matrix detected. Result is not guaranteed to be accurate.\n",
      "Reciprocal condition number2.436280e-19\n",
      "  overwrite_a=True).T\n",
      "/Users/akushwaha/PycharmProjects/HappyOrNot/.venv/lib/python3.6/site-packages/sklearn/linear_model/ridge.py:112: LinAlgWarning: scipy.linalg.solve\n",
      "Ill-conditioned matrix detected. Result is not guaranteed to be accurate.\n",
      "Reciprocal condition number2.380659e-19\n",
      "  overwrite_a=True).T\n",
      "/Users/akushwaha/PycharmProjects/HappyOrNot/.venv/lib/python3.6/site-packages/sklearn/linear_model/ridge.py:112: LinAlgWarning: scipy.linalg.solve\n",
      "Ill-conditioned matrix detected. Result is not guaranteed to be accurate.\n",
      "Reciprocal condition number2.428092e-19\n",
      "  overwrite_a=True).T\n",
      "/Users/akushwaha/PycharmProjects/HappyOrNot/.venv/lib/python3.6/site-packages/sklearn/linear_model/ridge.py:112: LinAlgWarning: scipy.linalg.solve\n",
      "Ill-conditioned matrix detected. Result is not guaranteed to be accurate.\n",
      "Reciprocal condition number2.404550e-19\n",
      "  overwrite_a=True).T\n",
      "/Users/akushwaha/PycharmProjects/HappyOrNot/.venv/lib/python3.6/site-packages/sklearn/linear_model/ridge.py:112: LinAlgWarning: scipy.linalg.solve\n",
      "Ill-conditioned matrix detected. Result is not guaranteed to be accurate.\n",
      "Reciprocal condition number2.710071e-19\n",
      "  overwrite_a=True).T\n",
      "/Users/akushwaha/PycharmProjects/HappyOrNot/.venv/lib/python3.6/site-packages/sklearn/linear_model/ridge.py:112: LinAlgWarning: scipy.linalg.solve\n",
      "Ill-conditioned matrix detected. Result is not guaranteed to be accurate.\n",
      "Reciprocal condition number2.640307e-19\n",
      "  overwrite_a=True).T\n",
      "/Users/akushwaha/PycharmProjects/HappyOrNot/.venv/lib/python3.6/site-packages/sklearn/linear_model/ridge.py:112: LinAlgWarning: scipy.linalg.solve\n",
      "Ill-conditioned matrix detected. Result is not guaranteed to be accurate.\n",
      "Reciprocal condition number2.445714e-19\n",
      "  overwrite_a=True).T\n",
      "/Users/akushwaha/PycharmProjects/HappyOrNot/.venv/lib/python3.6/site-packages/sklearn/linear_model/ridge.py:112: LinAlgWarning: scipy.linalg.solve\n",
      "Ill-conditioned matrix detected. Result is not guaranteed to be accurate.\n",
      "Reciprocal condition number2.349971e-18\n",
      "  overwrite_a=True).T\n",
      "/Users/akushwaha/PycharmProjects/HappyOrNot/.venv/lib/python3.6/site-packages/sklearn/linear_model/ridge.py:112: LinAlgWarning: scipy.linalg.solve\n",
      "Ill-conditioned matrix detected. Result is not guaranteed to be accurate.\n",
      "Reciprocal condition number2.440834e-18\n",
      "  overwrite_a=True).T\n",
      "/Users/akushwaha/PycharmProjects/HappyOrNot/.venv/lib/python3.6/site-packages/sklearn/linear_model/ridge.py:112: LinAlgWarning: scipy.linalg.solve\n",
      "Ill-conditioned matrix detected. Result is not guaranteed to be accurate.\n",
      "Reciprocal condition number2.370284e-18\n",
      "  overwrite_a=True).T\n",
      "/Users/akushwaha/PycharmProjects/HappyOrNot/.venv/lib/python3.6/site-packages/sklearn/linear_model/ridge.py:112: LinAlgWarning: scipy.linalg.solve\n",
      "Ill-conditioned matrix detected. Result is not guaranteed to be accurate.\n",
      "Reciprocal condition number2.611348e-18\n",
      "  overwrite_a=True).T\n",
      "/Users/akushwaha/PycharmProjects/HappyOrNot/.venv/lib/python3.6/site-packages/sklearn/linear_model/ridge.py:112: LinAlgWarning: scipy.linalg.solve\n",
      "Ill-conditioned matrix detected. Result is not guaranteed to be accurate.\n",
      "Reciprocal condition number2.366843e-18\n",
      "  overwrite_a=True).T\n",
      "/Users/akushwaha/PycharmProjects/HappyOrNot/.venv/lib/python3.6/site-packages/sklearn/linear_model/ridge.py:112: LinAlgWarning: scipy.linalg.solve\n",
      "Ill-conditioned matrix detected. Result is not guaranteed to be accurate.\n",
      "Reciprocal condition number2.329195e-18\n",
      "  overwrite_a=True).T\n",
      "/Users/akushwaha/PycharmProjects/HappyOrNot/.venv/lib/python3.6/site-packages/sklearn/linear_model/ridge.py:112: LinAlgWarning: scipy.linalg.solve\n",
      "Ill-conditioned matrix detected. Result is not guaranteed to be accurate.\n",
      "Reciprocal condition number2.372103e-18\n",
      "  overwrite_a=True).T\n",
      "/Users/akushwaha/PycharmProjects/HappyOrNot/.venv/lib/python3.6/site-packages/sklearn/linear_model/ridge.py:112: LinAlgWarning: scipy.linalg.solve\n",
      "Ill-conditioned matrix detected. Result is not guaranteed to be accurate.\n",
      "Reciprocal condition number2.396250e-18\n",
      "  overwrite_a=True).T\n",
      "/Users/akushwaha/PycharmProjects/HappyOrNot/.venv/lib/python3.6/site-packages/sklearn/linear_model/ridge.py:112: LinAlgWarning: scipy.linalg.solve\n",
      "Ill-conditioned matrix detected. Result is not guaranteed to be accurate.\n",
      "Reciprocal condition number2.665086e-18\n",
      "  overwrite_a=True).T\n",
      "/Users/akushwaha/PycharmProjects/HappyOrNot/.venv/lib/python3.6/site-packages/sklearn/linear_model/ridge.py:112: LinAlgWarning: scipy.linalg.solve\n",
      "Ill-conditioned matrix detected. Result is not guaranteed to be accurate.\n",
      "Reciprocal condition number2.339880e-18\n",
      "  overwrite_a=True).T\n",
      "/Users/akushwaha/PycharmProjects/HappyOrNot/.venv/lib/python3.6/site-packages/sklearn/linear_model/ridge.py:112: LinAlgWarning: scipy.linalg.solve\n",
      "Ill-conditioned matrix detected. Result is not guaranteed to be accurate.\n",
      "Reciprocal condition number2.435702e-17\n",
      "  overwrite_a=True).T\n",
      "/Users/akushwaha/PycharmProjects/HappyOrNot/.venv/lib/python3.6/site-packages/sklearn/linear_model/ridge.py:112: LinAlgWarning: scipy.linalg.solve\n",
      "Ill-conditioned matrix detected. Result is not guaranteed to be accurate.\n",
      "Reciprocal condition number2.505823e-17\n",
      "  overwrite_a=True).T\n",
      "/Users/akushwaha/PycharmProjects/HappyOrNot/.venv/lib/python3.6/site-packages/sklearn/linear_model/ridge.py:112: LinAlgWarning: scipy.linalg.solve\n",
      "Ill-conditioned matrix detected. Result is not guaranteed to be accurate.\n",
      "Reciprocal condition number2.469863e-17\n",
      "  overwrite_a=True).T\n",
      "/Users/akushwaha/PycharmProjects/HappyOrNot/.venv/lib/python3.6/site-packages/sklearn/linear_model/ridge.py:112: LinAlgWarning: scipy.linalg.solve\n",
      "Ill-conditioned matrix detected. Result is not guaranteed to be accurate.\n",
      "Reciprocal condition number2.465111e-17\n",
      "  overwrite_a=True).T\n",
      "/Users/akushwaha/PycharmProjects/HappyOrNot/.venv/lib/python3.6/site-packages/sklearn/linear_model/ridge.py:112: LinAlgWarning: scipy.linalg.solve\n",
      "Ill-conditioned matrix detected. Result is not guaranteed to be accurate.\n",
      "Reciprocal condition number2.454133e-17\n",
      "  overwrite_a=True).T\n",
      "/Users/akushwaha/PycharmProjects/HappyOrNot/.venv/lib/python3.6/site-packages/sklearn/linear_model/ridge.py:112: LinAlgWarning: scipy.linalg.solve\n",
      "Ill-conditioned matrix detected. Result is not guaranteed to be accurate.\n",
      "Reciprocal condition number2.535405e-17\n",
      "  overwrite_a=True).T\n",
      "/Users/akushwaha/PycharmProjects/HappyOrNot/.venv/lib/python3.6/site-packages/sklearn/linear_model/ridge.py:112: LinAlgWarning: scipy.linalg.solve\n",
      "Ill-conditioned matrix detected. Result is not guaranteed to be accurate.\n",
      "Reciprocal condition number2.574699e-17\n",
      "  overwrite_a=True).T\n",
      "/Users/akushwaha/PycharmProjects/HappyOrNot/.venv/lib/python3.6/site-packages/sklearn/linear_model/ridge.py:112: LinAlgWarning: scipy.linalg.solve\n",
      "Ill-conditioned matrix detected. Result is not guaranteed to be accurate.\n",
      "Reciprocal condition number3.106270e-17\n",
      "  overwrite_a=True).T\n",
      "/Users/akushwaha/PycharmProjects/HappyOrNot/.venv/lib/python3.6/site-packages/sklearn/linear_model/ridge.py:112: LinAlgWarning: scipy.linalg.solve\n",
      "Ill-conditioned matrix detected. Result is not guaranteed to be accurate.\n",
      "Reciprocal condition number2.875288e-17\n",
      "  overwrite_a=True).T\n",
      "/Users/akushwaha/PycharmProjects/HappyOrNot/.venv/lib/python3.6/site-packages/sklearn/linear_model/ridge.py:112: LinAlgWarning: scipy.linalg.solve\n",
      "Ill-conditioned matrix detected. Result is not guaranteed to be accurate.\n",
      "Reciprocal condition number2.545049e-17\n",
      "  overwrite_a=True).T\n",
      "/Users/akushwaha/PycharmProjects/HappyOrNot/.venv/lib/python3.6/site-packages/sklearn/linear_model/ridge.py:112: LinAlgWarning: scipy.linalg.solve\n",
      "Ill-conditioned matrix detected. Result is not guaranteed to be accurate.\n",
      "Reciprocal condition number2.247685e-17\n",
      "  overwrite_a=True).T\n"
     ]
    }
   ],
   "source": [
    "model = ridge_classifier_cv.fit(X,Y)"
   ]
  },
  {
   "cell_type": "code",
   "execution_count": 13,
   "metadata": {},
   "outputs": [
    {
     "data": {
      "text/plain": [
       "{'alphas': (0.1, 1.0, 10.0),\n",
       " 'class_weight': None,\n",
       " 'cv': 10,\n",
       " 'fit_intercept': True,\n",
       " 'normalize': False,\n",
       " 'scoring': None}"
      ]
     },
     "execution_count": 13,
     "metadata": {},
     "output_type": "execute_result"
    }
   ],
   "source": [
    "model.get_params()"
   ]
  },
  {
   "cell_type": "code",
   "execution_count": 14,
   "metadata": {},
   "outputs": [],
   "source": [
    "res = model.predict([X[0], X[1]])\n"
   ]
  },
  {
   "cell_type": "code",
   "execution_count": 15,
   "metadata": {},
   "outputs": [
    {
     "data": {
      "text/plain": [
       "array([10, 30])"
      ]
     },
     "execution_count": 15,
     "metadata": {},
     "output_type": "execute_result"
    }
   ],
   "source": [
    "res"
   ]
  },
  {
   "cell_type": "code",
   "execution_count": 16,
   "metadata": {},
   "outputs": [
    {
     "name": "stderr",
     "output_type": "stream",
     "text": [
      "/Users/akushwaha/PycharmProjects/HappyOrNot/.venv/lib/python3.6/site-packages/sklearn/preprocessing/label.py:151: DeprecationWarning: The truth value of an empty array is ambiguous. Returning False, but in future this will result in an error. Use `array.size > 0` to check that an array is not empty.\n",
      "  if diff:\n"
     ]
    },
    {
     "data": {
      "text/plain": [
       "array(['Bright ', 'Driving '], dtype=object)"
      ]
     },
     "execution_count": 16,
     "metadata": {},
     "output_type": "execute_result"
    }
   ],
   "source": [
    "le.inverse_transform(res)"
   ]
  },
  {
   "cell_type": "code",
   "execution_count": 17,
   "metadata": {},
   "outputs": [
    {
     "data": {
      "text/plain": [
       "'Bright '"
      ]
     },
     "execution_count": 17,
     "metadata": {},
     "output_type": "execute_result"
    }
   ],
   "source": [
    "labels[0]"
   ]
  },
  {
   "cell_type": "code",
   "execution_count": 18,
   "metadata": {},
   "outputs": [
    {
     "name": "stderr",
     "output_type": "stream",
     "text": [
      "/Users/akushwaha/PycharmProjects/HappyOrNot/.venv/lib/python3.6/site-packages/sklearn/preprocessing/label.py:151: DeprecationWarning: The truth value of an empty array is ambiguous. Returning False, but in future this will result in an error. Use `array.size > 0` to check that an array is not empty.\n",
      "  if diff:\n"
     ]
    },
    {
     "data": {
      "text/plain": [
       "'Bright '"
      ]
     },
     "execution_count": 18,
     "metadata": {},
     "output_type": "execute_result"
    }
   ],
   "source": [
    "le.inverse_transform(Y[0])"
   ]
  },
  {
   "cell_type": "code",
   "execution_count": 19,
   "metadata": {},
   "outputs": [
    {
     "name": "stderr",
     "output_type": "stream",
     "text": [
      "/Users/akushwaha/PycharmProjects/HappyOrNot/.venv/lib/python3.6/site-packages/sklearn/preprocessing/label.py:151: DeprecationWarning: The truth value of an empty array is ambiguous. Returning False, but in future this will result in an error. Use `array.size > 0` to check that an array is not empty.\n",
      "  if diff:\n"
     ]
    },
    {
     "data": {
      "text/plain": [
       "'Driving '"
      ]
     },
     "execution_count": 19,
     "metadata": {},
     "output_type": "execute_result"
    }
   ],
   "source": [
    "le.inverse_transform(Y[1])"
   ]
  },
  {
   "cell_type": "markdown",
   "metadata": {},
   "source": [
    "## To calculate the weights of each feature:\n",
    "I need to train one classifier per label\n",
    "given a track train a model for telling whether the mood is happy or not. Once done, it will learn weights about how important each feature for classifying \"happy mood\"\n",
    "to calculate the weights of each features\n",
    "\n",
    "Then I can average all the weights, i.e., each classifier will give what weights it assign to each feature, need to take an average along  each feature dimension. This will give how important each feature dimension is for the mood classification task. Later, we need to calculate Euclidean distance by scaling each dimension to its learned weight."
   ]
  },
  {
   "cell_type": "code",
   "execution_count": null,
   "metadata": {},
   "outputs": [],
   "source": []
  }
 ],
 "metadata": {
  "kernelspec": {
   "display_name": "Python 3",
   "language": "python",
   "name": "python3"
  },
  "language_info": {
   "codemirror_mode": {
    "name": "ipython",
    "version": 3
   },
   "file_extension": ".py",
   "mimetype": "text/x-python",
   "name": "python",
   "nbconvert_exporter": "python",
   "pygments_lexer": "ipython3",
   "version": "3.6.5"
  }
 },
 "nbformat": 4,
 "nbformat_minor": 2
}
